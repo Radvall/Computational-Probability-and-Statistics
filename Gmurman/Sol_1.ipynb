{
  "nbformat": 4,
  "nbformat_minor": 0,
  "metadata": {
    "colab": {
      "name": "Sol_1.ipynb",
      "provenance": [],
      "collapsed_sections": [],
      "authorship_tag": "ABX9TyMYCgBuUqTTN5DNnYzKjNlX"
    },
    "kernelspec": {
      "name": "python3",
      "display_name": "Python 3"
    },
    "language_info": {
      "name": "python"
    }
  },
  "cells": [
    {
      "cell_type": "markdown",
      "metadata": {
        "id": "iNx_TPrax_EN"
      },
      "source": [
        "\n",
        "Задачи на основные понятия теории вероятностей"
      ]
    },
    {
      "cell_type": "markdown",
      "metadata": {
        "id": "jyCduGIkuEle"
      },
      "source": [
        "#Задача 1 \n",
        "\n",
        "В ящике имеется 50 одинаковых деталей, из них 5 окрашенных. Наудачу вынимают одну деталь. Найти вероятность того, что извлечённая деталь окажется окрашенной."
      ]
    },
    {
      "cell_type": "code",
      "metadata": {
        "colab": {
          "base_uri": "https://localhost:8080/"
        },
        "id": "2rKR-OS7uOef",
        "outputId": "650e1363-1c7b-4394-fa12-202641a91425"
      },
      "source": [
        "5 / 50 "
      ],
      "execution_count": 1,
      "outputs": [
        {
          "output_type": "execute_result",
          "data": {
            "text/plain": [
              "0.1"
            ]
          },
          "metadata": {},
          "execution_count": 1
        }
      ]
    },
    {
      "cell_type": "markdown",
      "metadata": {
        "id": "J9Jlzh5PudrL"
      },
      "source": [
        "# Задача 2 \n",
        "Брошена игральная кость. Найти вероятность того, что выпадет чётное число очков."
      ]
    },
    {
      "cell_type": "code",
      "metadata": {
        "colab": {
          "base_uri": "https://localhost:8080/"
        },
        "id": "yzKeY4XZudAU",
        "outputId": "ae134008-0c77-470b-8a91-489b136f8ef2"
      },
      "source": [
        "3 / 6"
      ],
      "execution_count": 2,
      "outputs": [
        {
          "output_type": "execute_result",
          "data": {
            "text/plain": [
              "0.5"
            ]
          },
          "metadata": {},
          "execution_count": 2
        }
      ]
    },
    {
      "cell_type": "markdown",
      "metadata": {
        "id": "jCgE_lIDurcZ"
      },
      "source": [
        "# Задача 3 \n",
        "Участники жеребьёвки тянут из ящика жетоны с номерами от 1 до 100. Найти вероятность того, что номер первого наудачу извлечённого жетона не содержит цифры 5."
      ]
    },
    {
      "cell_type": "code",
      "metadata": {
        "colab": {
          "base_uri": "https://localhost:8080/"
        },
        "id": "BPOIMlh_vA0r",
        "outputId": "6b4d873b-4195-4fee-f498-f1ee3e3026a1"
      },
      "source": [
        "# Количество неблагоприятных исходов:\n",
        "len([5, 15, 25, 35, 45, 50,51, 52, 53, 54, 55, 56, 57, 58, 59, 65, 75, 85, 95] )"
      ],
      "execution_count": 3,
      "outputs": [
        {
          "output_type": "execute_result",
          "data": {
            "text/plain": [
              "19"
            ]
          },
          "metadata": {},
          "execution_count": 3
        }
      ]
    },
    {
      "cell_type": "code",
      "metadata": {
        "colab": {
          "base_uri": "https://localhost:8080/"
        },
        "id": "7Q_Ad99hvjF3",
        "outputId": "738c5858-6ea0-43ca-f2bd-feeebacd3278"
      },
      "source": [
        "(100 - 19) / 100"
      ],
      "execution_count": 4,
      "outputs": [
        {
          "output_type": "execute_result",
          "data": {
            "text/plain": [
              "0.81"
            ]
          },
          "metadata": {},
          "execution_count": 4
        }
      ]
    },
    {
      "cell_type": "markdown",
      "metadata": {
        "id": "WJQ4Yddbvu9e"
      },
      "source": [
        "# Задача 4 \n",
        "В мещочке содержится 5 одинаковых кубиков. На всех гранях каждого кубика написана одна из следующих букв: о, п, р, с, т. Найти вероятность того, что на четырёх, вытянутых по одной из расположенных \"в одну линию\" кубиков можно будет прочесть слово \"спорт\"."
      ]
    },
    {
      "cell_type": "code",
      "metadata": {
        "id": "a8emW-Wfwu97"
      },
      "source": [
        "import numpy as np"
      ],
      "execution_count": 5,
      "outputs": []
    },
    {
      "cell_type": "code",
      "metadata": {
        "colab": {
          "base_uri": "https://localhost:8080/"
        },
        "id": "mmcBTY8Fw0hO",
        "outputId": "8374aff4-7a86-4fee-b72d-764b4d0296a5"
      },
      "source": [
        "1 / np.math.factorial(5)"
      ],
      "execution_count": 6,
      "outputs": [
        {
          "output_type": "execute_result",
          "data": {
            "text/plain": [
              "0.008333333333333333"
            ]
          },
          "metadata": {},
          "execution_count": 6
        }
      ]
    },
    {
      "cell_type": "markdown",
      "metadata": {
        "id": "QlO_iWdIw9if"
      },
      "source": [
        "# Задача 5\n",
        "На каждой из шести одинаковых карточек напечатана одна из следующих букв: а, т, м, р, с, о. Карточки тщательно перемешаны. Найти вероятность того, что на четырёх, вытянутых по одной из расположенных \"в одну линию\" карточках можно будет прочесть слово \"трос\""
      ]
    },
    {
      "cell_type": "code",
      "metadata": {
        "id": "AWbn5mBExpaa"
      },
      "source": [
        "def arrangements(n: int, k: int) -> int:\n",
        "    \"\"\"Число размещений.\n",
        "    \"\"\"\n",
        "    \n",
        "    return np.math.factorial(n) // np.math.factorial(n - k)"
      ],
      "execution_count": 7,
      "outputs": []
    },
    {
      "cell_type": "code",
      "metadata": {
        "colab": {
          "base_uri": "https://localhost:8080/"
        },
        "id": "zYnW1udUxqvH",
        "outputId": "f1d763ce-b9d4-44b5-9090-6bcb4b684304"
      },
      "source": [
        "1 / arrangements(6, len('трос'))"
      ],
      "execution_count": 8,
      "outputs": [
        {
          "output_type": "execute_result",
          "data": {
            "text/plain": [
              "0.002777777777777778"
            ]
          },
          "metadata": {},
          "execution_count": 8
        }
      ]
    }
  ]
}